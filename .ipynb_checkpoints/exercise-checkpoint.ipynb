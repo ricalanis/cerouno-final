{
 "cells": [
  {
   "cell_type": "markdown",
   "metadata": {},
   "source": [
    "# Final Exercise"
   ]
  },
  {
   "cell_type": "markdown",
   "metadata": {},
   "source": [
    "The dataset you're given (data.csv) contains information about vehicle colision reports in the Monterrey Metropolitan area.\n",
    "\n",
    "Analyze the data and answer the following questions based on it.\n",
    "\n",
    "Please be sure to reply back to us with your answers and attach the source code you used to answer them (it can be a Jupyter notebook, an Rmd script, an R script, a Python script, an Excel spreadsheet, etc.)"
   ]
  },
  {
   "cell_type": "markdown",
   "metadata": {},
   "source": [
    "# Questions"
   ]
  },
  {
   "cell_type": "markdown",
   "metadata": {},
   "source": [
    "1. Which roads \"appear to be\" the top 10 most dangerous roads of Monterrey Metropolitan area?\n",
    "2. What's the age group with the overall highest number of reported colisions? You can consider any age groupings for the purposes of this question. Explain this in a graphical way.\n",
    "3. If you were to see a collision in the \"Garza Sada\" road, What would be the odds for that person to have any type of positive alcohol ingestion opinion?\n",
    "4. Why do you think we use the phrase \"appear to be\" in question 1? What would you need to be able to speak with more confidence about the answer to that question?\n",
    "5. What modelling project would you push to develop from the conclusions in this dataset?"
   ]
  },
  {
   "cell_type": "code",
   "execution_count": 1,
   "metadata": {},
   "outputs": [],
   "source": [
    "import pandas as pd"
   ]
  },
  {
   "cell_type": "code",
   "execution_count": 2,
   "metadata": {},
   "outputs": [
    {
     "name": "stderr",
     "output_type": "stream",
     "text": [
      "/usr/local/lib/python3.7/site-packages/IPython/core/interactiveshell.py:3020: DtypeWarning: Columns (9,12,13,16,21,28,32,33,34,35,36,37,40,41,42,43,44,45,46,49) have mixed types. Specify dtype option on import or set low_memory=False.\n",
      "  interactivity=interactivity, compiler=compiler, result=result)\n"
     ]
    }
   ],
   "source": [
    "data = pd.read_csv(\"data.csv\")"
   ]
  },
  {
   "cell_type": "markdown",
   "metadata": {},
   "source": [
    "# 1. Which roads \"appear to be\" the top 10 most dangerous roads of Monterrey Metropolitan area?\n"
   ]
  },
  {
   "cell_type": "code",
   "execution_count": 6,
   "metadata": {},
   "outputs": [
    {
     "data": {
      "text/plain": [
       "MORONES PRIETO      1729\n",
       "LAZARO CARDENAS     1279\n",
       "GONZALITOS          1229\n",
       "GARZA SADA          1215\n",
       "ALFONSO REYES       1153\n",
       "JOSE VASCONCELOS     964\n",
       "LEONES               891\n",
       "AV. LINCOLN          838\n",
       "CONSTITUCION         823\n",
       "LINCOLN              752\n",
       "FIDEL VELAZQUEZ      752\n",
       "Name: Calle, dtype: int64"
      ]
     },
     "execution_count": 6,
     "metadata": {},
     "output_type": "execute_result"
    }
   ],
   "source": [
    "data[\"Calle\"].value_counts()[0:11]"
   ]
  },
  {
   "cell_type": "markdown",
   "metadata": {},
   "source": [
    "# 2. What's the age group with the overall highest number of reported colisions? You can consider any age groupings for the purposes of this question. Explain this in a graphical way."
   ]
  },
  {
   "cell_type": "code",
   "execution_count": 7,
   "metadata": {},
   "outputs": [
    {
     "data": {
      "text/plain": [
       "Index(['Column', 'Calle', 'Causa', 'Ciudad', 'Cruce', 'Fecha', 'Hora', 'ID',\n",
       "       'Latitud', 'Lesionados', 'Longitud', 'Mes', 'Muertos',\n",
       "       'No. De Infracción', 'Número  total de lesionados',\n",
       "       'Número total de muertos', 'Por alcohol', 'Sentido',\n",
       "       'Situación climática', 'Situación del Pavimento', 'Tipo de incidente',\n",
       "       'Tipo de involucrado', 'Tipo de vía', 'V1_Arresto', 'V1_Dictamen',\n",
       "       'V1_Edad', 'V1_Estatus Licencia', 'V1_Género', 'V1_No. De Fallecidos',\n",
       "       'V1_No. De Lesionados', 'V1_Tipo de Vehículo', 'V1_Uso de Cinturón',\n",
       "       'V2_Arresto', 'V2_Dictamen', 'V2_Edad', 'V2_Estatus Licencia',\n",
       "       'V2_Género', 'V2_No. De Fallecidos', 'V2_No. De Lesionados',\n",
       "       'V2_Tipo de Vehículo', 'V2_Uso de Cinturón', 'V3_Arresto',\n",
       "       'V3_Dictamen', 'V3_Edad', 'V3_Estatus Licencia', 'V3_Género',\n",
       "       'V3_No. De Fallecidos', 'V3_No. De Lesionados', 'V3_Tipo de Vehículo',\n",
       "       'V3_Uso de Cinturón'],\n",
       "      dtype='object')"
      ]
     },
     "execution_count": 7,
     "metadata": {},
     "output_type": "execute_result"
    }
   ],
   "source": [
    "data.columns"
   ]
  },
  {
   "cell_type": "code",
   "execution_count": 19,
   "metadata": {},
   "outputs": [],
   "source": [
    "%matplotlib inline"
   ]
  },
  {
   "cell_type": "code",
   "execution_count": 20,
   "metadata": {},
   "outputs": [
    {
     "data": {
      "text/plain": [
       "<matplotlib.axes._subplots.AxesSubplot at 0x10e3a4550>"
      ]
     },
     "execution_count": 20,
     "metadata": {},
     "output_type": "execute_result"
    },
    {
     "data": {
      "image/png": "[encoded data removed]",
      "text/plain": [
       "<Figure size 432x288 with 1 Axes>"
      ]
     },
     "metadata": {
      "needs_background": "light"
     },
     "output_type": "display_data"
    }
   ],
   "source": [
    "pd.to_numeric(data[\"V1_Edad\"], errors=\"drop\").hist()"
   ]
  },
  {
   "cell_type": "markdown",
   "metadata": {},
   "source": [
    "# 3. If you were to see a collision in the \"Garza Sada\" road, What would be the odds for that person to have any type of positive alcohol ingestion opinion?"
   ]
  },
  {
   "cell_type": "code",
   "execution_count": 25,
   "metadata": {},
   "outputs": [
    {
     "data": {
      "text/plain": [
       "Index(['Column', 'Calle', 'Causa', 'Ciudad', 'Cruce', 'Fecha', 'Hora', 'ID',\n",
       "       'Latitud', 'Lesionados', 'Longitud', 'Mes', 'Muertos',\n",
       "       'No. De Infracción', 'Número  total de lesionados',\n",
       "       'Número total de muertos', 'Por alcohol', 'Sentido',\n",
       "       'Situación climática', 'Situación del Pavimento', 'Tipo de incidente',\n",
       "       'Tipo de involucrado', 'Tipo de vía', 'V1_Arresto', 'V1_Dictamen',\n",
       "       'V1_Edad', 'V1_Estatus Licencia', 'V1_Género', 'V1_No. De Fallecidos',\n",
       "       'V1_No. De Lesionados', 'V1_Tipo de Vehículo', 'V1_Uso de Cinturón',\n",
       "       'V2_Arresto', 'V2_Dictamen', 'V2_Edad', 'V2_Estatus Licencia',\n",
       "       'V2_Género', 'V2_No. De Fallecidos', 'V2_No. De Lesionados',\n",
       "       'V2_Tipo de Vehículo', 'V2_Uso de Cinturón', 'V3_Arresto',\n",
       "       'V3_Dictamen', 'V3_Edad', 'V3_Estatus Licencia', 'V3_Género',\n",
       "       'V3_No. De Fallecidos', 'V3_No. De Lesionados', 'V3_Tipo de Vehículo',\n",
       "       'V3_Uso de Cinturón'],\n",
       "      dtype='object')"
      ]
     },
     "execution_count": 25,
     "metadata": {},
     "output_type": "execute_result"
    }
   ],
   "source": [
    "data.columns"
   ]
  },
  {
   "cell_type": "code",
   "execution_count": 26,
   "metadata": {},
   "outputs": [
    {
     "data": {
      "text/plain": [
       "No                                223\n",
       "Evidente Estado de Alcoholismo      3\n",
       "Ebrio Completo                      3\n",
       "Ebrio Incompleto                    1\n",
       "Name: V1_Dictamen, dtype: int64"
      ]
     },
     "execution_count": 26,
     "metadata": {},
     "output_type": "execute_result"
    }
   ],
   "source": [
    "data[data[\"Calle\"] == \"GARZA SADA\"][\"V1_Dictamen\"].value_counts()"
   ]
  },
  {
   "cell_type": "code",
   "execution_count": 27,
   "metadata": {},
   "outputs": [
    {
     "data": {
      "text/plain": [
       "Monterrey         20961\n",
       "San Pedro          8242\n",
       "San Nicolás        6953\n",
       "Apodaca            4269\n",
       "García             4046\n",
       "Guadalupe          3893\n",
       "Santa Catarina     3595\n",
       "Escobedo           3049\n",
       "                      1\n",
       "Name: Ciudad, dtype: int64"
      ]
     },
     "execution_count": 27,
     "metadata": {},
     "output_type": "execute_result"
    }
   ],
   "source": [
    "data[\"Ciudad\"].value_counts()"
   ]
  }
 ],
 "metadata": {
  "kernelspec": {
   "display_name": "Python 3",
   "language": "python",
   "name": "python3"
  },
  "language_info": {
   "codemirror_mode": {
    "name": "ipython",
    "version": 3
   },
   "file_extension": ".py",
   "mimetype": "text/x-python",
   "name": "python",
   "nbconvert_exporter": "python",
   "pygments_lexer": "ipython3",
   "version": "3.7.1"
  }
 },
 "nbformat": 4,
 "nbformat_minor": 2
}
